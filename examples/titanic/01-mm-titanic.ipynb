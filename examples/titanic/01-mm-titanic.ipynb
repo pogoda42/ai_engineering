{
 "cells": [
  {
   "cell_type": "markdown",
   "metadata": {},
   "source": [
    "# Titanic Dataset Example 🚢\n",
    "\n",
    "This example demonstrates how to fetch the Titanic dataset using **Scikit-learn** and explore it. We will use the dataset from OpenML.\n",
    "\n",
    "[OpenML](https://openml.org) is an open, collaborative platform for machine learning. It provides access to datasets, algorithms, and experiments, making it easy to share and reuse data and models. By promoting transparency and reproducibility, OpenML accelerates discovery and supports open science in the field of machine learning."
   ]
  },
  {
   "cell_type": "code",
   "execution_count": 8,
   "metadata": {},
   "outputs": [
    {
     "name": "stdout",
     "output_type": "stream",
     "text": [
      "{'default_target_attribute': 'survived',\n",
      " 'description_version': '9',\n",
      " 'file_id': '16826755',\n",
      " 'format': 'ARFF',\n",
      " 'id': '40945',\n",
      " 'licence': 'Public',\n",
      " 'md5_checksum': '60ac7205eee0ba5045c90b3bba95b1c4',\n",
      " 'minio_url': 'https://openml1.win.tue.nl/datasets/0004/40945/dataset_40945.pq',\n",
      " 'name': 'Titanic',\n",
      " 'parquet_url': 'https://openml1.win.tue.nl/datasets/0004/40945/dataset_40945.pq',\n",
      " 'processing_date': '2018-10-04 07:19:36',\n",
      " 'status': 'active',\n",
      " 'tag': ['Computational Universe', 'Manufacturing', 'text_data'],\n",
      " 'upload_date': '2017-10-16T01:17:36',\n",
      " 'url': 'https://api.openml.org/data/v1/download/16826755/Titanic.arff',\n",
      " 'version': '1',\n",
      " 'visibility': 'public'}\n"
     ]
    }
   ],
   "source": [
    "import os\n",
    "import pandas as pd\n",
    "import matplotlib.pyplot as plt\n",
    "import seaborn as sns\n",
    "from pprint import pprint\n",
    "\n",
    "from sklearn.metrics import confusion_matrix\n",
    "from sklearn.datasets import fetch_openml\n",
    "from sklearn.model_selection import train_test_split\n",
    "from sklearn.ensemble import RandomForestClassifier\n",
    "from sklearn.metrics import (\n",
    "    accuracy_score,\n",
    "    precision_score,\n",
    "    recall_score,\n",
    "    f1_score\n",
    ")\n",
    "\n",
    "# Fetch the Titanic dataset\n",
    "titanic = fetch_openml(\"titanic\", version=1, as_frame=True)\n",
    "\n",
    "# Print details about the dataset\n",
    "pprint(titanic.details)"
   ]
  },
  {
   "cell_type": "code",
   "execution_count": 9,
   "metadata": {},
   "outputs": [
    {
     "name": "stdout",
     "output_type": "stream",
     "text": [
      "<class 'pandas.core.frame.DataFrame'>\n",
      "RangeIndex: 1309 entries, 0 to 1308\n",
      "Data columns (total 14 columns):\n",
      " #   Column     Non-Null Count  Dtype   \n",
      "---  ------     --------------  -----   \n",
      " 0   pclass     1309 non-null   int64   \n",
      " 1   survived   1309 non-null   category\n",
      " 2   name       1309 non-null   object  \n",
      " 3   sex        1309 non-null   category\n",
      " 4   age        1046 non-null   float64 \n",
      " 5   sibsp      1309 non-null   int64   \n",
      " 6   parch      1309 non-null   int64   \n",
      " 7   ticket     1309 non-null   object  \n",
      " 8   fare       1308 non-null   float64 \n",
      " 9   cabin      295 non-null    object  \n",
      " 10  embarked   1307 non-null   category\n",
      " 11  boat       486 non-null    object  \n",
      " 12  body       121 non-null    float64 \n",
      " 13  home.dest  745 non-null    object  \n",
      "dtypes: category(3), float64(3), int64(3), object(5)\n",
      "memory usage: 116.8+ KB\n"
     ]
    }
   ],
   "source": [
    "# Initialize the dataframe\n",
    "df = titanic.frame\n",
    "\n",
    "# Print the first 5 rows\n",
    "df.info()"
   ]
  },
  {
   "cell_type": "code",
   "execution_count": 10,
   "metadata": {},
   "outputs": [
    {
     "name": "stdout",
     "output_type": "stream",
     "text": [
      "<class 'pandas.core.frame.DataFrame'>\n",
      "Index: 1043 entries, 0 to 1308\n",
      "Data columns (total 8 columns):\n",
      " #   Column    Non-Null Count  Dtype   \n",
      "---  ------    --------------  -----   \n",
      " 0   pclass    1043 non-null   int64   \n",
      " 1   survived  1043 non-null   category\n",
      " 2   sex       1043 non-null   category\n",
      " 3   age       1043 non-null   float64 \n",
      " 4   sibsp     1043 non-null   int64   \n",
      " 5   parch     1043 non-null   int64   \n",
      " 6   fare      1043 non-null   float64 \n",
      " 7   embarked  1043 non-null   category\n",
      "dtypes: category(3), float64(2), int64(3)\n",
      "memory usage: 52.3 KB\n"
     ]
    }
   ],
   "source": [
    "# Subset the dataframe\n",
    "subset = df.copy()\n",
    "subset = subset.drop(columns=['cabin', 'boat', 'body', 'home.dest', 'name', 'ticket'])\n",
    "\n",
    "# Remove rows with missing values\n",
    "df_clean = subset.dropna()\n",
    "df_clean.info()"
   ]
  },
  {
   "cell_type": "code",
   "execution_count": 11,
   "metadata": {},
   "outputs": [
    {
     "name": "stdout",
     "output_type": "stream",
     "text": [
      "<class 'pandas.core.frame.DataFrame'>\n",
      "Index: 1043 entries, 0 to 1308\n",
      "Data columns (total 10 columns):\n",
      " #   Column      Non-Null Count  Dtype  \n",
      "---  ------      --------------  -----  \n",
      " 0   pclass      1043 non-null   int64  \n",
      " 1   age         1043 non-null   float64\n",
      " 2   sibsp       1043 non-null   int64  \n",
      " 3   parch       1043 non-null   int64  \n",
      " 4   fare        1043 non-null   float64\n",
      " 5   sex_female  1043 non-null   bool   \n",
      " 6   sex_male    1043 non-null   bool   \n",
      " 7   embarked_C  1043 non-null   bool   \n",
      " 8   embarked_Q  1043 non-null   bool   \n",
      " 9   embarked_S  1043 non-null   bool   \n",
      "dtypes: bool(5), float64(2), int64(3)\n",
      "memory usage: 54.0 KB\n",
      "Dimensions of the one-hot encoded feature matrix:  (1043, 10)\n"
     ]
    }
   ],
   "source": [
    "# Define the feature matrix X and the target vector y\n",
    "X = df_clean.drop(columns='survived')\n",
    "y = df_clean['survived']\n",
    "\n",
    "# Separate numeric and categorical features\n",
    "numeric_features = X.select_dtypes(include=['int64', 'float64'])\n",
    "categorical_features = X.select_dtypes(include=['category'])\n",
    "\n",
    "# Perform one-hot encoding on categorical features\n",
    "categorical_features_onehot = pd.get_dummies(categorical_features)\n",
    "\n",
    "# Concatenate numeric and one-hot encoded categorical features\n",
    "X_onehot = pd.concat([numeric_features, categorical_features_onehot], axis=1)\n",
    "\n",
    "# Print information about the one-hot encoded feature matrix\n",
    "X_onehot.info()\n",
    "print(\"Dimensions of the one-hot encoded feature matrix: \", X_onehot.shape)"
   ]
  },
  {
   "cell_type": "code",
   "execution_count": 12,
   "metadata": {},
   "outputs": [
    {
     "name": "stdout",
     "output_type": "stream",
     "text": [
      "Dimensions of the training and test sets:\n",
      "(834, 10)\n",
      "(209, 10)\n"
     ]
    }
   ],
   "source": [
    "# Split the data into training and test sets\n",
    "X_train, X_test, y_train, y_test = train_test_split(\n",
    "    X_onehot,\n",
    "    y,\n",
    "    test_size=0.2,\n",
    "    random_state=42,\n",
    "    stratify=y\n",
    ")\n",
    "\n",
    "# Print the dimensions of the training and test sets\n",
    "print(\"Dimensions of the training and test sets:\")\n",
    "print(X_train.shape)\n",
    "print(X_test.shape)"
   ]
  },
  {
   "cell_type": "code",
   "execution_count": 13,
   "metadata": {},
   "outputs": [
    {
     "data": {
      "text/html": [
       "<div>\n",
       "<style scoped>\n",
       "    .dataframe tbody tr th:only-of-type {\n",
       "        vertical-align: middle;\n",
       "    }\n",
       "\n",
       "    .dataframe tbody tr th {\n",
       "        vertical-align: top;\n",
       "    }\n",
       "\n",
       "    .dataframe thead th {\n",
       "        text-align: right;\n",
       "    }\n",
       "</style>\n",
       "<table border=\"1\" class=\"dataframe\">\n",
       "  <thead>\n",
       "    <tr style=\"text-align: right;\">\n",
       "      <th></th>\n",
       "      <th>Set</th>\n",
       "      <th>Accuracy</th>\n",
       "      <th>Precision</th>\n",
       "      <th>Recall</th>\n",
       "      <th>F1-Score</th>\n",
       "    </tr>\n",
       "  </thead>\n",
       "  <tbody>\n",
       "    <tr>\n",
       "      <th>0</th>\n",
       "      <td>Train</td>\n",
       "      <td>0.80</td>\n",
       "      <td>0.79</td>\n",
       "      <td>0.69</td>\n",
       "      <td>0.74</td>\n",
       "    </tr>\n",
       "    <tr>\n",
       "      <th>1</th>\n",
       "      <td>Test</td>\n",
       "      <td>0.76</td>\n",
       "      <td>0.75</td>\n",
       "      <td>0.62</td>\n",
       "      <td>0.68</td>\n",
       "    </tr>\n",
       "  </tbody>\n",
       "</table>\n",
       "</div>"
      ],
      "text/plain": [
       "     Set  Accuracy  Precision  Recall  F1-Score\n",
       "0  Train      0.80       0.79    0.69      0.74\n",
       "1   Test      0.76       0.75    0.62      0.68"
      ]
     },
     "execution_count": 13,
     "metadata": {},
     "output_type": "execute_result"
    }
   ],
   "source": [
    "# Initialize the model\n",
    "model = RandomForestClassifier(\n",
    "    random_state=42,\n",
    "    n_estimators=100,\n",
    "    max_depth=3)\n",
    "\n",
    "# Train the model\n",
    "model.fit(X_train, y_train)\n",
    "\n",
    "# Make predictions\n",
    "y_pred_train = model.predict(X_train)\n",
    "y_pred_test = model.predict(X_test)\n",
    "\n",
    "# Calculate precision, recall, and F1-score for training set\n",
    "accuracy_train = accuracy_score(y_train, y_pred_train)\n",
    "precision_train = precision_score(y_train, y_pred_train, pos_label='1')\n",
    "recall_train = recall_score(y_train, y_pred_train, pos_label='1')\n",
    "f1_train = f1_score(y_train, y_pred_train, pos_label='1')\n",
    "\n",
    "# Calculate precision, recall, and F1-score for test set\n",
    "accuracy_test = accuracy_score(y_test, y_pred_test)\n",
    "precision_test = precision_score(y_test, y_pred_test, pos_label='1')\n",
    "recall_test = recall_score(y_test, y_pred_test, pos_label='1')\n",
    "f1_test = f1_score(y_test, y_pred_test, pos_label='1')\n",
    "\n",
    "# Store the metrics in a DataFrame with rounded values\n",
    "metrics_df = pd.DataFrame({\n",
    "    'Set': ['Train', 'Test'],\n",
    "    'Accuracy': [round(accuracy_train, 2), round(accuracy_test, 2)],\n",
    "    'Precision': [round(precision_train, 2), round(precision_test, 2)],\n",
    "    'Recall': [round(recall_train, 2), round(recall_test, 2)],\n",
    "    'F1-Score': [round(f1_train, 2), round(f1_test, 2)]\n",
    "})\n",
    "\n",
    "# Save this to a CSV file\n",
    "metrics_df.to_csv('metrics.csv', index=False)\n",
    "\n",
    "metrics_df"
   ]
  },
  {
   "cell_type": "code",
   "execution_count": 14,
   "metadata": {},
   "outputs": [
    {
     "data": {
      "image/png": "[encoded data removed]",
      "text/plain": [
       "<Figure size 1000x700 with 2 Axes>"
      ]
     },
     "metadata": {},
     "output_type": "display_data"
    }
   ],
   "source": [
    "# Compute the confusion matrix\n",
    "cm = confusion_matrix(y_test, y_pred_test)\n",
    "\n",
    "# Plot the confusion matrix using seaborn\n",
    "plt.figure(figsize=(10, 7))\n",
    "sns.heatmap(cm, annot=True, fmt='d', cmap='Blues', xticklabels=['Not Survived', 'Survived'], yticklabels=['Not Survived', 'Survived'])\n",
    "plt.xlabel('Predicted')\n",
    "plt.ylabel('Actual')\n",
    "plt.title('Confusion Matrix')\n",
    "\n",
    "# Save the plot\n",
    "plt.savefig('confusion_matrix.png')\n",
    "\n",
    "# Display the plot\n",
    "plt.show()"
   ]
  }
 ],
 "metadata": {
  "kernelspec": {
   "display_name": "base",
   "language": "python",
   "name": "python3"
  },
  "language_info": {
   "codemirror_mode": {
    "name": "ipython",
    "version": 3
   },
   "file_extension": ".py",
   "mimetype": "text/x-python",
   "name": "python",
   "nbconvert_exporter": "python",
   "pygments_lexer": "ipython3",
   "version": "3.12.3"
  }
 },
 "nbformat": 4,
 "nbformat_minor": 2
}
